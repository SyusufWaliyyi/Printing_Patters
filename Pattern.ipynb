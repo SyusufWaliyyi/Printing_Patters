{
 "cells": [
  {
   "cell_type": "markdown",
   "metadata": {},
   "source": [
    "# Right angle triangular row"
   ]
  },
  {
   "cell_type": "code",
   "execution_count": 15,
   "metadata": {},
   "outputs": [
    {
     "name": "stdout",
     "output_type": "stream",
     "text": [
      "      @ \n",
      "      @ @ \n",
      "      @ @ @ \n",
      "      @ @ @ @ \n",
      "      @ @ @ @ @ \n",
      "      @ @ @ @ @ @ \n",
      "      @ @ @ @ @ @ @ \n"
     ]
    }
   ],
   "source": [
    "Rows = 7\n",
    "\n",
    "for i in range(1, Rows + 1):\n",
    "    print(\" \" * (Rows - 1) + \"@ \" * i)"
   ]
  },
  {
   "cell_type": "markdown",
   "metadata": {},
   "source": [
    "# Tri-angular row"
   ]
  },
  {
   "cell_type": "code",
   "execution_count": 16,
   "metadata": {},
   "outputs": [
    {
     "name": "stdout",
     "output_type": "stream",
     "text": [
      "      @ \n",
      "     @ @ \n",
      "    @ @ @ \n",
      "   @ @ @ @ \n",
      "  @ @ @ @ @ \n",
      " @ @ @ @ @ @ \n",
      "@ @ @ @ @ @ @ \n"
     ]
    }
   ],
   "source": [
    "Rows = 7\n",
    "\n",
    "for i in range(1, Rows + 1):\n",
    "    print(\" \" * (Rows - i) + \"@ \" * i)"
   ]
  },
  {
   "cell_type": "markdown",
   "metadata": {},
   "source": [
    "Diamond row"
   ]
  },
  {
   "cell_type": "code",
   "execution_count": 17,
   "metadata": {},
   "outputs": [
    {
     "name": "stdout",
     "output_type": "stream",
     "text": [
      "       @ \n",
      "      @ @ \n",
      "     @ @ @ \n",
      "    @ @ @ @ \n",
      "   @ @ @ @ @ \n",
      "  @ @ @ @ @ @ \n",
      " @ @ @ @ @ @ @ \n",
      "@ @ @ @ @ @ @ @ \n",
      " @ @ @ @ @ @ @ \n",
      "  @ @ @ @ @ @ \n",
      "   @ @ @ @ @ \n",
      "    @ @ @ @ \n",
      "     @ @ @ \n",
      "      @ @ \n",
      "       @ \n"
     ]
    }
   ],
   "source": [
    "Rows = 8\n",
    "\n",
    "for i in range(1, Rows + 1):\n",
    "    print(\" \" * (Rows - i) + \"@ \" * i)\n",
    "\n",
    "for i in range(Rows -1, 0, -1):\n",
    "    print(\" \" * (Rows - i) + \"@ \" * i)"
   ]
  },
  {
   "cell_type": "markdown",
   "metadata": {},
   "source": [
    "Squares rows"
   ]
  },
  {
   "cell_type": "code",
   "execution_count": 23,
   "metadata": {},
   "outputs": [
    {
     "name": "stdout",
     "output_type": "stream",
     "text": [
      "% $ % $ % $ % $ % \n",
      "$ % $ % $ % $ % $ \n",
      "% $ % $ % $ % $ % \n",
      "$ % $ % $ % $ % $ \n",
      "% $ % $ % $ % $ % \n",
      "$ % $ % $ % $ % $ \n",
      "% $ % $ % $ % $ % \n",
      "$ % $ % $ % $ % $ \n",
      "% $ % $ % $ % $ % \n"
     ]
    }
   ],
   "source": [
    "# sourcery skip: use-itertools-product\n",
    "Rows = 9\n",
    "Cols = 9\n",
    "\n",
    "for i in range(Rows):\n",
    "    for k in range(Cols):\n",
    "        if (i + k) % 2 == 0:\n",
    "            print(\"%\", end=\" \")\n",
    "        else:\n",
    "            print(\"$\", end=\" \")\n",
    "    print()\n"
   ]
  },
  {
   "cell_type": "markdown",
   "metadata": {},
   "source": [
    "Rectangular rows"
   ]
  },
  {
   "cell_type": "code",
   "execution_count": 25,
   "metadata": {},
   "outputs": [
    {
     "name": "stdout",
     "output_type": "stream",
     "text": [
      "% $ % $ % $ % $ % $ % $ \n",
      "$ % $ % $ % $ % $ % $ % \n",
      "% $ % $ % $ % $ % $ % $ \n",
      "$ % $ % $ % $ % $ % $ % \n",
      "% $ % $ % $ % $ % $ % $ \n",
      "$ % $ % $ % $ % $ % $ % \n",
      "% $ % $ % $ % $ % $ % $ \n",
      "$ % $ % $ % $ % $ % $ % \n",
      "% $ % $ % $ % $ % $ % $ \n"
     ]
    }
   ],
   "source": [
    "Rows = 9\n",
    "Cols = 12\n",
    "\n",
    "for a in range(Rows):\n",
    "    for b in range(Cols):\n",
    "        if (a + b) % 2 == 0:\n",
    "            print(\"%\", end=\" \")\n",
    "        else:\n",
    "            print(\"$\", end=\" \")\n",
    "    print()"
   ]
  }
 ],
 "metadata": {
  "kernelspec": {
   "display_name": "Python 3",
   "language": "python",
   "name": "python3"
  },
  "language_info": {
   "codemirror_mode": {
    "name": "ipython",
    "version": 3
   },
   "file_extension": ".py",
   "mimetype": "text/x-python",
   "name": "python",
   "nbconvert_exporter": "python",
   "pygments_lexer": "ipython3",
   "version": "3.13.0"
  }
 },
 "nbformat": 4,
 "nbformat_minor": 2
}
